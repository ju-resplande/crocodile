{
  "cells": [
    {
      "cell_type": "code",
      "execution_count": null,
      "metadata": {
        "colab": {
          "base_uri": "https://localhost:8080/"
        },
        "id": "JS7pb_YvbMDL",
        "outputId": "f2761ac8-533d-489f-becc-cc7041cf2f42"
      },
      "outputs": [],
      "source": [
        "!pip install transformers sentencepiece protobuf jsonlines dateparser SPARQLWrapper wikimapper torch dateparser lxml\n",
        "!git clone https://github.com/LittlePea13/wikiextractor\n",
        "!pip install -e wikiextractor/"
      ]
    },
    {
      "cell_type": "code",
      "execution_count": null,
      "metadata": {
        "colab": {
          "base_uri": "https://localhost:8080/"
        },
        "id": "2Fqojj8ZTvJO",
        "outputId": "d9196f5d-d957-4dd4-f58d-f59f6801c4ea"
      },
      "outputs": [],
      "source": [
        "%mkdir -p data/pt\n",
        "%cd data/pt\n",
        "!wget https://dumps.wikimedia.org/ptwiki/latest/ptwiki-latest-pages-articles-multistream.xml.bz2\n",
        "%cd ../.."
      ]
    },
    {
      "cell_type": "code",
      "execution_count": null,
      "metadata": {
        "id": "ms8d7n0VQhQv"
      },
      "outputs": [],
      "source": [
        "!sh startup.sh"
      ]
    },
    {
      "cell_type": "code",
      "execution_count": null,
      "metadata": {
        "colab": {
          "base_uri": "https://localhost:8080/",
          "height": 1000
        },
        "id": "D0hoNwBmdM44",
        "outputId": "2e0098b2-d2d8-4809-ea51-b98ba71aeddf"
      },
      "outputs": [],
      "source": [
        "!sh extract_lan.sh pt"
      ]
    }
  ],
  "metadata": {
    "accelerator": "GPU",
    "colab": {
      "collapsed_sections": [],
      "name": "main.ipynb",
      "provenance": []
    },
    "gpuClass": "standard",
    "kernelspec": {
      "display_name": "Python 3.10.4 ('crocodile')",
      "language": "python",
      "name": "python3"
    },
    "language_info": {
      "name": "python",
      "version": "3.10.4"
    },
    "vscode": {
      "interpreter": {
        "hash": "d1236d0415d51322a09ebd2012784094ecb083f03a9293bafe04f1f5e4a07bd0"
      }
    }
  },
  "nbformat": 4,
  "nbformat_minor": 0
}
