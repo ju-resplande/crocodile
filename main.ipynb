{
  "cells": [
    {
      "cell_type": "code",
      "execution_count": null,
      "metadata": {
        "colab": {
          "base_uri": "https://localhost:8080/"
        },
        "id": "JS7pb_YvbMDL",
        "outputId": "f2761ac8-533d-489f-becc-cc7041cf2f42"
      },
      "outputs": [],
      "source": [
        "!pip install transformers sentencepiece protobuf jsonlines dateparser SPARQLWrapper wikimapper torch dateparser lxml\n",
        "!git clone https://github.com/LittlePea13/wikiextractor\n",
        "!pip install -e wikiextractor/"
      ]
    },
    {
      "cell_type": "code",
      "execution_count": null,
      "metadata": {
        "colab": {
          "base_uri": "https://localhost:8080/"
        },
        "id": "2Fqojj8ZTvJO",
        "outputId": "d9196f5d-d957-4dd4-f58d-f59f6801c4ea"
      },
      "outputs": [],
      "source": [
        "%mkdir -p data/pt\n",
        "%cd data/pt\n",
        "!wget https://dumps.wikimedia.org/ptwiki/latest/ptwiki-latest-pages-articles-multistream.xml.bz2\n",
        "%cd ../.."
      ]
    },
    {
      "cell_type": "code",
      "execution_count": null,
      "metadata": {
        "id": "ms8d7n0VQhQv"
      },
      "outputs": [],
      "source": [
        "!sh startup.sh"
      ]
    },
    {
      "cell_type": "code",
      "execution_count": null,
      "metadata": {
        "colab": {
          "base_uri": "https://localhost:8080/",
          "height": 1000
        },
        "id": "D0hoNwBmdM44",
        "outputId": "2e0098b2-d2d8-4809-ea51-b98ba71aeddf"
      },
      "outputs": [],
      "source": [
        "!sh extract_lan.sh pt"
      ]
    }
  ],
  "metadata": {
    "accelerator": "GPU",
    "colab": {
      "collapsed_sections": [],
      "name": "main.ipynb",
      "provenance": []
    },
    "gpuClass": "standard",
    "kernelspec": {
      "display_name": "Python 3.8.10 64-bit",
      "language": "python",
      "name": "python3"
    },
    "language_info": {
      "name": "python",
      "version": "3.8.10"
    },
    "vscode": {
      "interpreter": {
        "hash": "916dbcbb3f70747c44a77c7bcd40155683ae19c65e1c03b4aa3499c5328201f1"
      }
    }
  },
  "nbformat": 4,
  "nbformat_minor": 0
}
